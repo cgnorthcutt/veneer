{
 "cells": [
  {
   "cell_type": "code",
   "execution_count": null,
   "metadata": {},
   "outputs": [],
   "source": [
    "import datetime\n",
    "import random\n",
    "import os"
   ]
  },
  {
   "cell_type": "code",
   "execution_count": null,
   "metadata": {},
   "outputs": [],
   "source": [
    "fn = 'veneer.txt'\n",
    "sunday_write_frac = 0.75\n",
    "\n",
    "months = [\"Jan\", \"Feb\", \"March\", \"April\", \"May\", \"June\", \"July\", \"Aug\", \"Sep\", \"Oct\", \"Nov\", \"Dec\"]\n",
    "months = dict(zip(range(1, 1 + len(months)), months))\n",
    "\n",
    "t = datetime.datetime.today()"
   ]
  },
  {
   "cell_type": "code",
   "execution_count": null,
   "metadata": {},
   "outputs": [],
   "source": [
    "if not os.path.isfile(fn):\n",
    "    # Set-up file if it does not exist.\n",
    "    with open(fn, 'w') as wf:\n",
    "        print(\"{}\".format(t.year), file = wf)\n",
    "        print(\"{} \".format(months[t.month]), end = \"\", file = wf)\n",
    "        for i in range(1, 1 + t.day):\n",
    "            print(\"|\" if i % 5 == 0 else \"_\", end = \"\", file = wf)\n",
    "else:\n",
    "    # Append to file if it does exist\n",
    "    with open(fn, 'a') as wf:\n",
    "        if t.month == 1 and t.day == 1:\n",
    "            print(\"\\n{}\".format(t.year), end = \"\", file = wf)\n",
    "        if t.day == 1:\n",
    "            print(\"\\n{} \".format(months[t.month]), end = \"\", file = wf)\n",
    "        if t.weekday() != 6 or random.random() < sunday_write_frac: # Only write on Sundays some fraction of the time.\n",
    "            print(\"|\" if t.day == 5 else \"-\", end = \"\", file = wf)"
   ]
  }
 ],
 "metadata": {
  "kernelspec": {
   "display_name": "Python 3",
   "language": "python",
   "name": "python3"
  },
  "language_info": {
   "codemirror_mode": {
    "name": "ipython",
    "version": 3
   },
   "file_extension": ".py",
   "mimetype": "text/x-python",
   "name": "python",
   "nbconvert_exporter": "python",
   "pygments_lexer": "ipython3",
   "version": "3.6.8"
  }
 },
 "nbformat": 4,
 "nbformat_minor": 2
}
