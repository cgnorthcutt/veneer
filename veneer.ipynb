{
 "cells": [
  {
   "cell_type": "code",
   "execution_count": null,
   "metadata": {},
   "outputs": [],
   "source": [
    "#!/usr/bin/python3"
   ]
  },
  {
   "cell_type": "code",
   "execution_count": null,
   "metadata": {},
   "outputs": [],
   "source": [
    "from __future__ import print_function"
   ]
  },
  {
   "cell_type": "code",
   "execution_count": null,
   "metadata": {},
   "outputs": [],
   "source": [
    "import datetime\n",
    "import random\n",
    "import os"
   ]
  },
  {
   "cell_type": "code",
   "execution_count": null,
   "metadata": {},
   "outputs": [],
   "source": [
    "fn = 'veneer.txt'\n",
    "sunday_write_frac = 0.75\n",
    "\n",
    "months = [\"Jan\", \"Feb\", \"March\", \"April\", \"May\", \"June\", \"July\", \"Aug\", \"Sep\", \"Oct\", \"Nov\", \"Dec\"]\n",
    "months = dict(zip(range(1, 1 + len(months)), months))\n",
    "\n",
    "t = datetime.datetime.today()\n",
    "\n",
    "# Only set this variable if you are running the crontab job multiple times per day\n",
    "# In this example, this script will do nothing 40% of the time.\n",
    "# This will make your activity appear more random if you run the crontab a few times a day.\n",
    "do_nothing_prob = 0.3"
   ]
  },
  {
   "cell_type": "code",
   "execution_count": null,
   "metadata": {},
   "outputs": [],
   "source": [
    "if not os.path.isfile(fn):\n",
    "    # Set-up file if it does not exist.\n",
    "    with open(fn, 'w') as wf:\n",
    "        print(\"{}\".format(t.year), file = wf)\n",
    "        print(\"{} \".format(months[t.month]), end = \"\", file = wf)\n",
    "        for i in range(1, 1 + t.day):\n",
    "            print(\"|\" if i % 5 == 0 else \"-\", end = \"\", file = wf)\n",
    "elif do_nothing_prob < random.random():\n",
    "    # Append to file if it does exist\n",
    "    with open(fn, 'a') as wf:\n",
    "        if t.month == 1 and t.day == 1:\n",
    "            print(\"\\n{}\".format(t.year), end = \"\", file = wf)\n",
    "        if t.day == 1:\n",
    "            print(\"\\n{} \".format(months[t.month]), end = \"\", file = wf)\n",
    "        if t.weekday() != 6 or random.random() < sunday_write_frac: # Only write on Sundays some fraction of the time.\n",
    "            print(\"|\" if t.day == 5 else \"-\", end = \"\", file = wf)"
   ]
  }
 ],
 "metadata": {
  "kernelspec": {
   "display_name": "Python 3",
   "language": "python",
   "name": "python3"
  },
  "language_info": {
   "codemirror_mode": {
    "name": "ipython",
    "version": 3
   },
   "file_extension": ".py",
   "mimetype": "text/x-python",
   "name": "python",
   "nbconvert_exporter": "python",
   "pygments_lexer": "ipython3",
   "version": "3.7.1"
  }
 },
 "nbformat": 4,
 "nbformat_minor": 2
}
